{
 "cells": [
  {
   "cell_type": "code",
   "execution_count": 1,
   "metadata": {},
   "outputs": [],
   "source": [
    "import numpy as np"
   ]
  },
  {
   "cell_type": "markdown",
   "metadata": {},
   "source": [
    "This is a simple, single-agent solution to a 10 armed bandit problem. "
   ]
  },
  {
   "cell_type": "code",
   "execution_count": 11,
   "metadata": {},
   "outputs": [
    {
     "name": "stdout",
     "output_type": "stream",
     "text": [
      "[ 1.15342101  1.80516126  0.52392149 -0.80111911 -0.3504238   0.17588271\n",
      "  0.40606635 -1.01485667  0.84043956  1.01911861]\n"
     ]
    }
   ],
   "source": [
    "# start by generating a random reqard for each of the 10 arms, mean 0 and var 1\n",
    "randReward = np.random.normal(0, 1, 10)\n",
    "trueReward = np.random.normal(0, 1, 10)\n",
    "print(trueReward)\n",
    "exp = 0.2"
   ]
  },
  {
   "cell_type": "code",
   "execution_count": 12,
   "metadata": {},
   "outputs": [
    {
     "name": "stdout",
     "output_type": "stream",
     "text": [
      "1\n"
     ]
    }
   ],
   "source": [
    "i = 0\n",
    "while(i<1000) :    # running 1000 epochs\n",
    "    # get the probability of exploration\n",
    "    exploreProb = np.random.rand(1)\n",
    "    exploreProb = exploreProb[0]\n",
    "    guessIndex = 0\n",
    "    # generate the index we are guessing the max value at\n",
    "    if (exploreProb > exp):\n",
    "        guessIndex = np.argmax(randReward)\n",
    "    else:\n",
    "        guessIndex = np.random.randint(0, 10)\n",
    "    # determining the true value of the guessed index\n",
    "    trueValue = trueReward[guessIndex]\n",
    "    # generating a reward\n",
    "    reward = np.random.normal(trueValue, 1, 1)[0]\n",
    "    # replacing that reward within our randReward\n",
    "    randReward[guessIndex] = reward\n",
    "    i += 1\n",
    "# getting the best arm\n",
    "bestArm = np.argmax(randReward)\n",
    "print(bestArm)"
   ]
  },
  {
   "cell_type": "code",
   "execution_count": null,
   "metadata": {},
   "outputs": [],
   "source": []
  }
 ],
 "metadata": {
  "kernelspec": {
   "display_name": "Python 3",
   "language": "python",
   "name": "python3"
  },
  "language_info": {
   "codemirror_mode": {
    "name": "ipython",
    "version": 3
   },
   "file_extension": ".py",
   "mimetype": "text/x-python",
   "name": "python",
   "nbconvert_exporter": "python",
   "pygments_lexer": "ipython3",
   "version": "3.8.5"
  }
 },
 "nbformat": 4,
 "nbformat_minor": 4
}
