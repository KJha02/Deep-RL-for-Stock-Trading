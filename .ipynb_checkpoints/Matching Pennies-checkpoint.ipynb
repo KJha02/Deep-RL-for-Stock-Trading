{
 "cells": [
  {
   "cell_type": "code",
   "execution_count": 36,
   "metadata": {},
   "outputs": [],
   "source": [
    "import numpy as np\n",
    "import matplotlib.pyplot as plt"
   ]
  },
  {
   "cell_type": "code",
   "execution_count": 37,
   "metadata": {},
   "outputs": [],
   "source": [
    "r1 = np.array([[1,-1],\n",
    "              [-1, 1]])\n",
    "r2 = -r1"
   ]
  },
  {
   "cell_type": "code",
   "execution_count": 38,
   "metadata": {},
   "outputs": [],
   "source": [
    "t = 1000000\n",
    "alpha = 1/(10 + 0.00001*t)\n",
    "explorationRate = 0.5/(1 + 0.0001*t)\n",
    "discountFactor = 0.9\n",
    "delta = 0.0001\n",
    "Q = [0,0]\n",
    "actionPolicy1 = [0.8, 0.2]"
   ]
  },
  {
   "cell_type": "code",
   "execution_count": null,
   "metadata": {},
   "outputs": [],
   "source": [
    "i = 0\n",
    "\n",
    "probHeads = []\n",
    "trials = []\n",
    "while(i < t):\n",
    "    probHeads.append(actionPolicy1[1])\n",
    "    trials.append(i)\n",
    "    exploreProb = np.random.rand(1)\n",
    "    exploreProb = exploreProb[0]\n",
    "    a = 0\n",
    "    a2 = 0\n",
    "    if (i%2==0):\n",
    "        a2 = 1\n",
    "    \n",
    "    if (exploreProb > explorationRate):\n",
    "        a = np.argmax(actionPolicy1)\n",
    "    else:\n",
    "        a = np.random.randint(0,2)\n",
    "    r = r1[a, a2]\n",
    "    Q[a] = (1-alpha)* Q[a] + alpha*(r + 0.9 * np.amax(Q))\n",
    "    actionPolicy1[a] = actionPolicy1[a] + delta\n",
    "    i += 1\n"
   ]
  },
  {
   "cell_type": "code",
   "execution_count": null,
   "metadata": {},
   "outputs": [],
   "source": [
    "plt.scatter(trials, probHeads)\n",
    "plt.show()"
   ]
  },
  {
   "cell_type": "code",
   "execution_count": null,
   "metadata": {},
   "outputs": [],
   "source": []
  }
 ],
 "metadata": {
  "kernelspec": {
   "display_name": "Python 3",
   "language": "python",
   "name": "python3"
  },
  "language_info": {
   "codemirror_mode": {
    "name": "ipython",
    "version": 3
   },
   "file_extension": ".py",
   "mimetype": "text/x-python",
   "name": "python",
   "nbconvert_exporter": "python",
   "pygments_lexer": "ipython3",
   "version": "3.8.5"
  }
 },
 "nbformat": 4,
 "nbformat_minor": 4
}
